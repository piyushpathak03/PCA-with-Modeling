{
 "cells": [
  {
   "cell_type": "code",
   "execution_count": 7,
   "metadata": {},
   "outputs": [],
   "source": [
    "from pyforest import*\n",
    "\n",
    "from sklearn.cluster import KMeans\n",
    "from scipy.stats import zscore\n",
    "import pandas as pd\n",
    "import numpy as np\n",
    "from sklearn.cluster import KMeans\n",
    "from scipy.stats import zscore\n",
    "import matplotlib.pyplot as plt\n",
    "%matplotlib inline\n",
    "from sklearn.decomposition import PCA"
   ]
  },
  {
   "cell_type": "code",
   "execution_count": 8,
   "metadata": {},
   "outputs": [],
   "source": [
    "data=pd.read_csv('abalone.csv',header=None,names=['Gender','Length','Diameter','Height','Meatweight','Weight','Gutweight','Shellweight','Rings'])"
   ]
  },
  {
   "cell_type": "code",
   "execution_count": 9,
   "metadata": {},
   "outputs": [
    {
     "data": {
      "text/html": [
       "<div>\n",
       "<style scoped>\n",
       "    .dataframe tbody tr th:only-of-type {\n",
       "        vertical-align: middle;\n",
       "    }\n",
       "\n",
       "    .dataframe tbody tr th {\n",
       "        vertical-align: top;\n",
       "    }\n",
       "\n",
       "    .dataframe thead th {\n",
       "        text-align: right;\n",
       "    }\n",
       "</style>\n",
       "<table border=\"1\" class=\"dataframe\">\n",
       "  <thead>\n",
       "    <tr style=\"text-align: right;\">\n",
       "      <th></th>\n",
       "      <th>Length</th>\n",
       "      <th>Diameter</th>\n",
       "      <th>Height</th>\n",
       "      <th>Meatweight</th>\n",
       "      <th>Weight</th>\n",
       "      <th>Gutweight</th>\n",
       "      <th>Shellweight</th>\n",
       "      <th>Rings</th>\n",
       "    </tr>\n",
       "  </thead>\n",
       "  <tbody>\n",
       "    <tr>\n",
       "      <th>0</th>\n",
       "      <td>0.455</td>\n",
       "      <td>0.365</td>\n",
       "      <td>0.095</td>\n",
       "      <td>0.5140</td>\n",
       "      <td>0.2245</td>\n",
       "      <td>0.1010</td>\n",
       "      <td>0.150</td>\n",
       "      <td>15</td>\n",
       "    </tr>\n",
       "    <tr>\n",
       "      <th>1</th>\n",
       "      <td>0.350</td>\n",
       "      <td>0.265</td>\n",
       "      <td>0.090</td>\n",
       "      <td>0.2255</td>\n",
       "      <td>0.0995</td>\n",
       "      <td>0.0485</td>\n",
       "      <td>0.070</td>\n",
       "      <td>7</td>\n",
       "    </tr>\n",
       "    <tr>\n",
       "      <th>2</th>\n",
       "      <td>0.530</td>\n",
       "      <td>0.420</td>\n",
       "      <td>0.135</td>\n",
       "      <td>0.6770</td>\n",
       "      <td>0.2565</td>\n",
       "      <td>0.1415</td>\n",
       "      <td>0.210</td>\n",
       "      <td>9</td>\n",
       "    </tr>\n",
       "    <tr>\n",
       "      <th>3</th>\n",
       "      <td>0.440</td>\n",
       "      <td>0.365</td>\n",
       "      <td>0.125</td>\n",
       "      <td>0.5160</td>\n",
       "      <td>0.2155</td>\n",
       "      <td>0.1140</td>\n",
       "      <td>0.155</td>\n",
       "      <td>10</td>\n",
       "    </tr>\n",
       "    <tr>\n",
       "      <th>4</th>\n",
       "      <td>0.330</td>\n",
       "      <td>0.255</td>\n",
       "      <td>0.080</td>\n",
       "      <td>0.2050</td>\n",
       "      <td>0.0895</td>\n",
       "      <td>0.0395</td>\n",
       "      <td>0.055</td>\n",
       "      <td>7</td>\n",
       "    </tr>\n",
       "  </tbody>\n",
       "</table>\n",
       "</div>"
      ],
      "text/plain": [
       "   Length  Diameter  Height  Meatweight  Weight  Gutweight  Shellweight  Rings\n",
       "0   0.455     0.365   0.095      0.5140  0.2245     0.1010        0.150     15\n",
       "1   0.350     0.265   0.090      0.2255  0.0995     0.0485        0.070      7\n",
       "2   0.530     0.420   0.135      0.6770  0.2565     0.1415        0.210      9\n",
       "3   0.440     0.365   0.125      0.5160  0.2155     0.1140        0.155     10\n",
       "4   0.330     0.255   0.080      0.2050  0.0895     0.0395        0.055      7"
      ]
     },
     "execution_count": 9,
     "metadata": {},
     "output_type": "execute_result"
    }
   ],
   "source": [
    "data.head()\n",
    "df=data.drop('Gender',axis=1)\n",
    "df.head()"
   ]
  },
  {
   "cell_type": "code",
   "execution_count": 10,
   "metadata": {},
   "outputs": [
    {
     "data": {
      "text/html": [
       "<div>\n",
       "<style scoped>\n",
       "    .dataframe tbody tr th:only-of-type {\n",
       "        vertical-align: middle;\n",
       "    }\n",
       "\n",
       "    .dataframe tbody tr th {\n",
       "        vertical-align: top;\n",
       "    }\n",
       "\n",
       "    .dataframe thead th {\n",
       "        text-align: right;\n",
       "    }\n",
       "</style>\n",
       "<table border=\"1\" class=\"dataframe\">\n",
       "  <thead>\n",
       "    <tr style=\"text-align: right;\">\n",
       "      <th></th>\n",
       "      <th>Length</th>\n",
       "      <th>Diameter</th>\n",
       "      <th>Height</th>\n",
       "      <th>Meatweight</th>\n",
       "      <th>Weight</th>\n",
       "      <th>Gutweight</th>\n",
       "      <th>Shellweight</th>\n",
       "      <th>Rings</th>\n",
       "    </tr>\n",
       "  </thead>\n",
       "  <tbody>\n",
       "    <tr>\n",
       "      <th>Length</th>\n",
       "      <td>1.000000</td>\n",
       "      <td>0.986812</td>\n",
       "      <td>0.827554</td>\n",
       "      <td>0.925261</td>\n",
       "      <td>0.897914</td>\n",
       "      <td>0.903018</td>\n",
       "      <td>0.897706</td>\n",
       "      <td>0.556720</td>\n",
       "    </tr>\n",
       "    <tr>\n",
       "      <th>Diameter</th>\n",
       "      <td>0.986812</td>\n",
       "      <td>1.000000</td>\n",
       "      <td>0.833684</td>\n",
       "      <td>0.925452</td>\n",
       "      <td>0.893162</td>\n",
       "      <td>0.899724</td>\n",
       "      <td>0.905330</td>\n",
       "      <td>0.574660</td>\n",
       "    </tr>\n",
       "    <tr>\n",
       "      <th>Height</th>\n",
       "      <td>0.827554</td>\n",
       "      <td>0.833684</td>\n",
       "      <td>1.000000</td>\n",
       "      <td>0.819221</td>\n",
       "      <td>0.774972</td>\n",
       "      <td>0.798319</td>\n",
       "      <td>0.817338</td>\n",
       "      <td>0.557467</td>\n",
       "    </tr>\n",
       "    <tr>\n",
       "      <th>Meatweight</th>\n",
       "      <td>0.925261</td>\n",
       "      <td>0.925452</td>\n",
       "      <td>0.819221</td>\n",
       "      <td>1.000000</td>\n",
       "      <td>0.969405</td>\n",
       "      <td>0.966375</td>\n",
       "      <td>0.955355</td>\n",
       "      <td>0.540390</td>\n",
       "    </tr>\n",
       "    <tr>\n",
       "      <th>Weight</th>\n",
       "      <td>0.897914</td>\n",
       "      <td>0.893162</td>\n",
       "      <td>0.774972</td>\n",
       "      <td>0.969405</td>\n",
       "      <td>1.000000</td>\n",
       "      <td>0.931961</td>\n",
       "      <td>0.882617</td>\n",
       "      <td>0.420884</td>\n",
       "    </tr>\n",
       "    <tr>\n",
       "      <th>Gutweight</th>\n",
       "      <td>0.903018</td>\n",
       "      <td>0.899724</td>\n",
       "      <td>0.798319</td>\n",
       "      <td>0.966375</td>\n",
       "      <td>0.931961</td>\n",
       "      <td>1.000000</td>\n",
       "      <td>0.907656</td>\n",
       "      <td>0.503819</td>\n",
       "    </tr>\n",
       "    <tr>\n",
       "      <th>Shellweight</th>\n",
       "      <td>0.897706</td>\n",
       "      <td>0.905330</td>\n",
       "      <td>0.817338</td>\n",
       "      <td>0.955355</td>\n",
       "      <td>0.882617</td>\n",
       "      <td>0.907656</td>\n",
       "      <td>1.000000</td>\n",
       "      <td>0.627574</td>\n",
       "    </tr>\n",
       "    <tr>\n",
       "      <th>Rings</th>\n",
       "      <td>0.556720</td>\n",
       "      <td>0.574660</td>\n",
       "      <td>0.557467</td>\n",
       "      <td>0.540390</td>\n",
       "      <td>0.420884</td>\n",
       "      <td>0.503819</td>\n",
       "      <td>0.627574</td>\n",
       "      <td>1.000000</td>\n",
       "    </tr>\n",
       "  </tbody>\n",
       "</table>\n",
       "</div>"
      ],
      "text/plain": [
       "               Length  Diameter    Height  Meatweight    Weight  Gutweight  \\\n",
       "Length       1.000000  0.986812  0.827554    0.925261  0.897914   0.903018   \n",
       "Diameter     0.986812  1.000000  0.833684    0.925452  0.893162   0.899724   \n",
       "Height       0.827554  0.833684  1.000000    0.819221  0.774972   0.798319   \n",
       "Meatweight   0.925261  0.925452  0.819221    1.000000  0.969405   0.966375   \n",
       "Weight       0.897914  0.893162  0.774972    0.969405  1.000000   0.931961   \n",
       "Gutweight    0.903018  0.899724  0.798319    0.966375  0.931961   1.000000   \n",
       "Shellweight  0.897706  0.905330  0.817338    0.955355  0.882617   0.907656   \n",
       "Rings        0.556720  0.574660  0.557467    0.540390  0.420884   0.503819   \n",
       "\n",
       "             Shellweight     Rings  \n",
       "Length          0.897706  0.556720  \n",
       "Diameter        0.905330  0.574660  \n",
       "Height          0.817338  0.557467  \n",
       "Meatweight      0.955355  0.540390  \n",
       "Weight          0.882617  0.420884  \n",
       "Gutweight       0.907656  0.503819  \n",
       "Shellweight     1.000000  0.627574  \n",
       "Rings           0.627574  1.000000  "
      ]
     },
     "execution_count": 10,
     "metadata": {},
     "output_type": "execute_result"
    }
   ],
   "source": [
    "df.corr()"
   ]
  },
  {
   "cell_type": "code",
   "execution_count": 11,
   "metadata": {},
   "outputs": [
    {
     "data": {
      "text/html": [
       "<div>\n",
       "<style scoped>\n",
       "    .dataframe tbody tr th:only-of-type {\n",
       "        vertical-align: middle;\n",
       "    }\n",
       "\n",
       "    .dataframe tbody tr th {\n",
       "        vertical-align: top;\n",
       "    }\n",
       "\n",
       "    .dataframe thead th {\n",
       "        text-align: right;\n",
       "    }\n",
       "</style>\n",
       "<table border=\"1\" class=\"dataframe\">\n",
       "  <thead>\n",
       "    <tr style=\"text-align: right;\">\n",
       "      <th></th>\n",
       "      <th>Length</th>\n",
       "      <th>Diameter</th>\n",
       "      <th>Height</th>\n",
       "      <th>Meatweight</th>\n",
       "      <th>Weight</th>\n",
       "      <th>Gutweight</th>\n",
       "      <th>Shellweight</th>\n",
       "      <th>Rings</th>\n",
       "    </tr>\n",
       "  </thead>\n",
       "  <tbody>\n",
       "    <tr>\n",
       "      <th>0</th>\n",
       "      <td>-0.574558</td>\n",
       "      <td>-0.432149</td>\n",
       "      <td>-1.064424</td>\n",
       "      <td>-0.641898</td>\n",
       "      <td>-0.607685</td>\n",
       "      <td>-0.726212</td>\n",
       "      <td>-0.638217</td>\n",
       "      <td>1.571544</td>\n",
       "    </tr>\n",
       "    <tr>\n",
       "      <th>1</th>\n",
       "      <td>-1.448986</td>\n",
       "      <td>-1.439929</td>\n",
       "      <td>-1.183978</td>\n",
       "      <td>-1.230277</td>\n",
       "      <td>-1.170910</td>\n",
       "      <td>-1.205221</td>\n",
       "      <td>-1.212987</td>\n",
       "      <td>-0.910013</td>\n",
       "    </tr>\n",
       "    <tr>\n",
       "      <th>2</th>\n",
       "      <td>0.050033</td>\n",
       "      <td>0.122130</td>\n",
       "      <td>-0.107991</td>\n",
       "      <td>-0.309469</td>\n",
       "      <td>-0.463500</td>\n",
       "      <td>-0.356690</td>\n",
       "      <td>-0.207139</td>\n",
       "      <td>-0.289624</td>\n",
       "    </tr>\n",
       "    <tr>\n",
       "      <th>3</th>\n",
       "      <td>-0.699476</td>\n",
       "      <td>-0.432149</td>\n",
       "      <td>-0.347099</td>\n",
       "      <td>-0.637819</td>\n",
       "      <td>-0.648238</td>\n",
       "      <td>-0.607600</td>\n",
       "      <td>-0.602294</td>\n",
       "      <td>0.020571</td>\n",
       "    </tr>\n",
       "    <tr>\n",
       "      <th>4</th>\n",
       "      <td>-1.615544</td>\n",
       "      <td>-1.540707</td>\n",
       "      <td>-1.423087</td>\n",
       "      <td>-1.272086</td>\n",
       "      <td>-1.215968</td>\n",
       "      <td>-1.287337</td>\n",
       "      <td>-1.320757</td>\n",
       "      <td>-0.910013</td>\n",
       "    </tr>\n",
       "  </tbody>\n",
       "</table>\n",
       "</div>"
      ],
      "text/plain": [
       "     Length  Diameter    Height  Meatweight    Weight  Gutweight  Shellweight  \\\n",
       "0 -0.574558 -0.432149 -1.064424   -0.641898 -0.607685  -0.726212    -0.638217   \n",
       "1 -1.448986 -1.439929 -1.183978   -1.230277 -1.170910  -1.205221    -1.212987   \n",
       "2  0.050033  0.122130 -0.107991   -0.309469 -0.463500  -0.356690    -0.207139   \n",
       "3 -0.699476 -0.432149 -0.347099   -0.637819 -0.648238  -0.607600    -0.602294   \n",
       "4 -1.615544 -1.540707 -1.423087   -1.272086 -1.215968  -1.287337    -1.320757   \n",
       "\n",
       "      Rings  \n",
       "0  1.571544  \n",
       "1 -0.910013  \n",
       "2 -0.289624  \n",
       "3  0.020571  \n",
       "4 -0.910013  "
      ]
     },
     "execution_count": 11,
     "metadata": {},
     "output_type": "execute_result"
    }
   ],
   "source": [
    "from sklearn.preprocessing import StandardScaler\n",
    "sc=StandardScaler()\n",
    "\n",
    "df_scaled = df.apply(zscore) \n",
    "df_scaled.head()"
   ]
  },
  {
   "cell_type": "code",
   "execution_count": 12,
   "metadata": {},
   "outputs": [
    {
     "name": "stdout",
     "output_type": "stream",
     "text": [
      "[[1.00023946 0.98704789 0.82775178 0.92548274 0.89812868 0.90323394\n",
      "  0.89792054 0.55685289]\n",
      " [0.98704789 1.00023946 0.83388332 0.92567371 0.89337636 0.89993988\n",
      "  0.90554657 0.57479746]\n",
      " [0.82775178 0.83388332 1.00023946 0.81941695 0.77515787 0.79851047\n",
      "  0.81753374 0.55760082]\n",
      " [0.92548274 0.92567371 0.81941695 1.00023946 0.96963759 0.96660649\n",
      "  0.95558422 0.54051908]\n",
      " [0.89812868 0.89337636 0.77515787 0.96963759 1.00023946 0.93218449\n",
      "  0.88282841 0.42098444]\n",
      " [0.90323394 0.89993988 0.79851047 0.96660649 0.93218449 1.00023946\n",
      "  0.90787367 0.5039399 ]\n",
      " [0.89792054 0.90554657 0.81753374 0.95558422 0.88282841 0.90787367\n",
      "  1.00023946 0.62772433]\n",
      " [0.55685289 0.57479746 0.55760082 0.54051908 0.42098444 0.5039399\n",
      "  0.62772433 1.00023946]]\n",
      "shape== (8, 8)\n"
     ]
    }
   ],
   "source": [
    "cov_matrix=np.cov(df_scaled.T) #covariance convert row v/s row but we need column v/s column so we transpose it\n",
    "print(cov_matrix)\n",
    "print('shape==',cov_matrix.shape)"
   ]
  },
  {
   "cell_type": "code",
   "execution_count": 13,
   "metadata": {},
   "outputs": [
    {
     "data": {
      "text/plain": [
       "array([6.71404654e+00, 6.95779541e-01, 2.58505008e-01, 1.66029591e-01,\n",
       "       1.26972036e-02, 6.39985662e-03, 6.34879663e-02, 8.49700060e-02])"
      ]
     },
     "execution_count": 13,
     "metadata": {},
     "output_type": "execute_result"
    }
   ],
   "source": [
    "eig_vals,eig_vecs = np.linalg.eig(cov_matrix)\n",
    "eig_vals"
   ]
  },
  {
   "cell_type": "code",
   "execution_count": 14,
   "metadata": {},
   "outputs": [
    {
     "data": {
      "text/plain": [
       "array([[ 3.72138505e-01,  6.82826958e-02,  3.10703159e-02,\n",
       "        -6.04053517e-01,  6.98825733e-01, -1.63485531e-02,\n",
       "        -4.74968278e-02,  1.11248478e-02],\n",
       "       [ 3.73094111e-01,  4.00480412e-02,  4.10050673e-02,\n",
       "        -5.87594701e-01, -7.12985166e-01,  2.19254893e-04,\n",
       "        -2.33754046e-02, -5.79110156e-02],\n",
       "       [ 3.40026777e-01, -7.04631477e-02,  8.99705624e-01,\n",
       "         2.56777039e-01,  8.61445194e-03, -2.68817140e-03,\n",
       "         2.66914622e-02,  5.67292650e-02],\n",
       "       [ 3.78307478e-01,  1.37346192e-01, -2.06193609e-01,\n",
       "         2.41848954e-01, -8.33128844e-03, -8.50264371e-01,\n",
       "         1.17255046e-01, -1.56556128e-02],\n",
       "       [ 3.62454487e-01,  2.98839921e-01, -2.08286301e-01,\n",
       "         1.83245659e-01, -9.28176619e-03,  3.91100542e-01,\n",
       "         6.24892864e-01,  3.98525300e-01],\n",
       "       [ 3.68557801e-01,  1.72978517e-01, -1.97379538e-01,\n",
       "         2.65220563e-01, -2.73455394e-02,  2.04179031e-01,\n",
       "        -7.65843810e-01,  3.09821489e-01],\n",
       "       [ 3.70757823e-01, -4.54004049e-02, -1.61574078e-01,\n",
       "         2.44192067e-01,  4.73950797e-02,  2.85623992e-01,\n",
       "         3.28323476e-02, -8.30563767e-01],\n",
       "       [ 2.42712772e-01, -9.21203850e-01, -1.92143588e-01,\n",
       "         4.33101254e-02,  8.42057326e-03,  2.33703940e-02,\n",
       "         6.81957909e-02,  2.20025690e-01]])"
      ]
     },
     "execution_count": 14,
     "metadata": {},
     "output_type": "execute_result"
    }
   ],
   "source": [
    "eig_vecs  # give row wise data "
   ]
  },
  {
   "cell_type": "code",
   "execution_count": 15,
   "metadata": {},
   "outputs": [
    {
     "data": {
      "text/plain": [
       "array([0.3721385 , 0.37309411, 0.34002678, 0.37830748, 0.36245449,\n",
       "       0.3685578 , 0.37075782, 0.24271277])"
      ]
     },
     "execution_count": 15,
     "metadata": {},
     "output_type": "execute_result"
    }
   ],
   "source": [
    "eig_vecs[:,0]   #first column data from (8*8 matrix)"
   ]
  },
  {
   "cell_type": "code",
   "execution_count": 16,
   "metadata": {},
   "outputs": [
    {
     "data": {
      "text/plain": [
       "array([ 0.0682827 ,  0.04004804, -0.07046315,  0.13734619,  0.29883992,\n",
       "        0.17297852, -0.0454004 , -0.92120385])"
      ]
     },
     "execution_count": 16,
     "metadata": {},
     "output_type": "execute_result"
    }
   ],
   "source": [
    "eig_vecs[:,1]   #first column data from (8*8 matrix)"
   ]
  },
  {
   "cell_type": "code",
   "execution_count": 17,
   "metadata": {},
   "outputs": [
    {
     "data": {
      "text/plain": [
       "[6.714046535594113,\n",
       " 0.6957795408508023,\n",
       " 0.2585050082948898,\n",
       " 0.1660295914776441,\n",
       " 0.08497000602295975,\n",
       " 0.06348796631816002,\n",
       " 0.01269720363809055,\n",
       " 0.006399856615600904]"
      ]
     },
     "execution_count": 17,
     "metadata": {},
     "output_type": "execute_result"
    }
   ],
   "source": [
    "sorted(eig_vals,reverse=True)"
   ]
  },
  {
   "cell_type": "code",
   "execution_count": 18,
   "metadata": {},
   "outputs": [
    {
     "data": {
      "text/plain": [
       "0.8390490782858511"
      ]
     },
     "execution_count": 18,
     "metadata": {},
     "output_type": "execute_result"
    }
   ],
   "source": [
    "6.7140/np.sum(eig_vals)"
   ]
  },
  {
   "cell_type": "code",
   "execution_count": 19,
   "metadata": {},
   "outputs": [
    {
     "name": "stdout",
     "output_type": "stream",
     "text": [
      "cumulative varianceexplained == [ 83.90548938  92.60065147  95.83119048  97.90606351  98.96793431\n",
      "  99.7613439   99.92002094 100.        ]\n"
     ]
    }
   ],
   "source": [
    "tot=sum(eig_vals)\n",
    "var_exp= [(i /tot) * 100 for i in sorted  (eig_vals , reverse= True)]    # percentage of variance explained\n",
    "cum_var_exp= np.cumsum(var_exp)  #cumulative sum\n",
    "print('cumulative varianceexplained ==', cum_var_exp)\n",
    "\n",
    "# as high multicollinearity here so we can easily sacrify 97,98,99,99 for better model or reduce the dimensions"
   ]
  },
  {
   "cell_type": "code",
   "execution_count": 20,
   "metadata": {},
   "outputs": [
    {
     "data": {
      "text/plain": [
       "array([6.71404654e+00, 6.95779541e-01, 2.58505008e-01, 1.66029591e-01,\n",
       "       1.26972036e-02, 6.39985662e-03, 6.34879663e-02, 8.49700060e-02])"
      ]
     },
     "execution_count": 20,
     "metadata": {},
     "output_type": "execute_result"
    }
   ],
   "source": [
    "eig_vals"
   ]
  },
  {
   "cell_type": "code",
   "execution_count": 21,
   "metadata": {},
   "outputs": [
    {
     "data": {
      "text/plain": [
       "[(6.714046535594113,\n",
       "  array([0.3721385 , 0.37309411, 0.34002678, 0.37830748, 0.36245449,\n",
       "         0.3685578 , 0.37075782, 0.24271277])),\n",
       " (0.6957795408508023,\n",
       "  array([ 0.0682827 ,  0.04004804, -0.07046315,  0.13734619,  0.29883992,\n",
       "          0.17297852, -0.0454004 , -0.92120385])),\n",
       " (0.2585050082948898,\n",
       "  array([ 0.03107032,  0.04100507,  0.89970562, -0.20619361, -0.2082863 ,\n",
       "         -0.19737954, -0.16157408, -0.19214359])),\n",
       " (0.1660295914776441,\n",
       "  array([-0.60405352, -0.5875947 ,  0.25677704,  0.24184895,  0.18324566,\n",
       "          0.26522056,  0.24419207,  0.04331013])),\n",
       " (0.01269720363809055,\n",
       "  array([ 0.69882573, -0.71298517,  0.00861445, -0.00833129, -0.00928177,\n",
       "         -0.02734554,  0.04739508,  0.00842057])),\n",
       " (0.006399856615600904,\n",
       "  array([-1.63485531e-02,  2.19254893e-04, -2.68817140e-03, -8.50264371e-01,\n",
       "          3.91100542e-01,  2.04179031e-01,  2.85623992e-01,  2.33703940e-02])),\n",
       " (0.06348796631816002,\n",
       "  array([-0.04749683, -0.0233754 ,  0.02669146,  0.11725505,  0.62489286,\n",
       "         -0.76584381,  0.03283235,  0.06819579])),\n",
       " (0.08497000602295975,\n",
       "  array([ 0.01112485, -0.05791102,  0.05672927, -0.01565561,  0.3985253 ,\n",
       "          0.30982149, -0.83056377,  0.22002569]))]"
      ]
     },
     "execution_count": 21,
     "metadata": {},
     "output_type": "execute_result"
    }
   ],
   "source": [
    "eigen_pairs= [(np.abs(eig_vals[i]), eig_vecs [: ,i]) for i in range (len(eig_vals))]\n",
    "\n",
    "\n",
    "\n",
    "eigen_pairs          #convert into 2d list"
   ]
  },
  {
   "cell_type": "code",
   "execution_count": 22,
   "metadata": {},
   "outputs": [
    {
     "data": {
      "text/plain": [
       "array([ 0.03107032,  0.04100507,  0.89970562, -0.20619361, -0.2082863 ,\n",
       "       -0.19737954, -0.16157408, -0.19214359])"
      ]
     },
     "execution_count": 22,
     "metadata": {},
     "output_type": "execute_result"
    }
   ],
   "source": [
    "eigen_pairs[2][1]"
   ]
  },
  {
   "cell_type": "code",
   "execution_count": 23,
   "metadata": {},
   "outputs": [
    {
     "data": {
      "text/plain": [
       "[(6.714046535594113,\n",
       "  array([0.3721385 , 0.37309411, 0.34002678, 0.37830748, 0.36245449,\n",
       "         0.3685578 , 0.37075782, 0.24271277])),\n",
       " (0.6957795408508023,\n",
       "  array([ 0.0682827 ,  0.04004804, -0.07046315,  0.13734619,  0.29883992,\n",
       "          0.17297852, -0.0454004 , -0.92120385])),\n",
       " (0.2585050082948898,\n",
       "  array([ 0.03107032,  0.04100507,  0.89970562, -0.20619361, -0.2082863 ,\n",
       "         -0.19737954, -0.16157408, -0.19214359])),\n",
       " (0.1660295914776441,\n",
       "  array([-0.60405352, -0.5875947 ,  0.25677704,  0.24184895,  0.18324566,\n",
       "          0.26522056,  0.24419207,  0.04331013])),\n",
       " (0.08497000602295975,\n",
       "  array([ 0.01112485, -0.05791102,  0.05672927, -0.01565561,  0.3985253 ,\n",
       "          0.30982149, -0.83056377,  0.22002569])),\n",
       " (0.06348796631816002,\n",
       "  array([-0.04749683, -0.0233754 ,  0.02669146,  0.11725505,  0.62489286,\n",
       "         -0.76584381,  0.03283235,  0.06819579])),\n",
       " (0.01269720363809055,\n",
       "  array([ 0.69882573, -0.71298517,  0.00861445, -0.00833129, -0.00928177,\n",
       "         -0.02734554,  0.04739508,  0.00842057])),\n",
       " (0.006399856615600904,\n",
       "  array([-1.63485531e-02,  2.19254893e-04, -2.68817140e-03, -8.50264371e-01,\n",
       "          3.91100542e-01,  2.04179031e-01,  2.85623992e-01,  2.33703940e-02]))]"
      ]
     },
     "execution_count": 23,
     "metadata": {},
     "output_type": "execute_result"
    }
   ],
   "source": [
    "eigen_pairs_sorted = sorted(eigen_pairs ,reverse=True)\n",
    "eigen_pairs_sorted"
   ]
  },
  {
   "cell_type": "code",
   "execution_count": 24,
   "metadata": {},
   "outputs": [
    {
     "data": {
      "text/plain": [
       "0.17297851676041756"
      ]
     },
     "execution_count": 24,
     "metadata": {},
     "output_type": "execute_result"
    }
   ],
   "source": [
    "eigen_pairs_sorted[1][1][5]  #fetching values"
   ]
  },
  {
   "cell_type": "code",
   "execution_count": 25,
   "metadata": {},
   "outputs": [
    {
     "data": {
      "text/plain": [
       "array([6.71404654e+00, 6.95779541e-01, 2.58505008e-01, 1.66029591e-01,\n",
       "       1.26972036e-02, 6.39985662e-03, 6.34879663e-02, 8.49700060e-02])"
      ]
     },
     "execution_count": 25,
     "metadata": {},
     "output_type": "execute_result"
    }
   ],
   "source": [
    "eig_vals"
   ]
  },
  {
   "cell_type": "code",
   "execution_count": 32,
   "metadata": {},
   "outputs": [
    {
     "data": {
      "text/plain": [
       "[array([0.3721385 , 0.37309411, 0.34002678, 0.37830748, 0.36245449,\n",
       "        0.3685578 , 0.37075782, 0.24271277]),\n",
       " array([ 0.0682827 ,  0.04004804, -0.07046315,  0.13734619,  0.29883992,\n",
       "         0.17297852, -0.0454004 , -0.92120385]),\n",
       " array([ 0.03107032,  0.04100507,  0.89970562, -0.20619361, -0.2082863 ,\n",
       "        -0.19737954, -0.16157408, -0.19214359]),\n",
       " array([-0.60405352, -0.5875947 ,  0.25677704,  0.24184895,  0.18324566,\n",
       "         0.26522056,  0.24419207,  0.04331013]),\n",
       " array([ 0.01112485, -0.05791102,  0.05672927, -0.01565561,  0.3985253 ,\n",
       "         0.30982149, -0.83056377,  0.22002569]),\n",
       " array([-0.04749683, -0.0233754 ,  0.02669146,  0.11725505,  0.62489286,\n",
       "        -0.76584381,  0.03283235,  0.06819579]),\n",
       " array([ 0.69882573, -0.71298517,  0.00861445, -0.00833129, -0.00928177,\n",
       "        -0.02734554,  0.04739508,  0.00842057]),\n",
       " array([-1.63485531e-02,  2.19254893e-04, -2.68817140e-03, -8.50264371e-01,\n",
       "         3.91100542e-01,  2.04179031e-01,  2.85623992e-01,  2.33703940e-02])]"
      ]
     },
     "execution_count": 32,
     "metadata": {},
     "output_type": "execute_result"
    }
   ],
   "source": [
    "## Extract descending ordered eigenvalues and eigen vectors\n",
    "eigenvalues_sort= [ eigen_pairs_sorted [index][0] for index in range (len(eig_vals))]\n",
    "eigenvectors_sort= [ eigen_pairs_sorted [index][1] for index in range (len(eig_vals))]\n",
    "\n",
    "#project data onto 2d\n",
    "eigenvectors_sort      #again give output row wise here"
   ]
  },
  {
   "cell_type": "code",
   "execution_count": 33,
   "metadata": {},
   "outputs": [
    {
     "data": {
      "text/plain": [
       "[6.714046535594113,\n",
       " 0.6957795408508023,\n",
       " 0.2585050082948898,\n",
       " 0.1660295914776441,\n",
       " 0.08497000602295975,\n",
       " 0.06348796631816002,\n",
       " 0.01269720363809055,\n",
       " 0.006399856615600904]"
      ]
     },
     "execution_count": 33,
     "metadata": {},
     "output_type": "execute_result"
    }
   ],
   "source": [
    "eigenvalues_sort"
   ]
  },
  {
   "cell_type": "code",
   "execution_count": 28,
   "metadata": {},
   "outputs": [
    {
     "data": {
      "text/plain": [
       "[array([0.3721385 , 0.37309411, 0.34002678, 0.37830748, 0.36245449,\n",
       "        0.3685578 , 0.37075782, 0.24271277]),\n",
       " array([ 0.0682827 ,  0.04004804, -0.07046315,  0.13734619,  0.29883992,\n",
       "         0.17297852, -0.0454004 , -0.92120385]),\n",
       " array([ 0.03107032,  0.04100507,  0.89970562, -0.20619361, -0.2082863 ,\n",
       "        -0.19737954, -0.16157408, -0.19214359]),\n",
       " array([-0.60405352, -0.5875947 ,  0.25677704,  0.24184895,  0.18324566,\n",
       "         0.26522056,  0.24419207,  0.04331013])]"
      ]
     },
     "execution_count": 28,
     "metadata": {},
     "output_type": "execute_result"
    }
   ],
   "source": [
    "eigenvectors_sort[0:4]"
   ]
  },
  {
   "cell_type": "code",
   "execution_count": 29,
   "metadata": {},
   "outputs": [
    {
     "data": {
      "text/plain": [
       "array([[ 0.3721385 ,  0.0682827 ,  0.03107032, -0.60405352],\n",
       "       [ 0.37309411,  0.04004804,  0.04100507, -0.5875947 ],\n",
       "       [ 0.34002678, -0.07046315,  0.89970562,  0.25677704],\n",
       "       [ 0.37830748,  0.13734619, -0.20619361,  0.24184895],\n",
       "       [ 0.36245449,  0.29883992, -0.2082863 ,  0.18324566],\n",
       "       [ 0.3685578 ,  0.17297852, -0.19737954,  0.26522056],\n",
       "       [ 0.37075782, -0.0454004 , -0.16157408,  0.24419207],\n",
       "       [ 0.24271277, -0.92120385, -0.19214359,  0.04331013]])"
      ]
     },
     "execution_count": 29,
     "metadata": {},
     "output_type": "execute_result"
    }
   ],
   "source": [
    "\n",
    "## keep the first four principal components\n",
    "## P_reduce is 8*4 matrix\n",
    "\n",
    "p_reduce= np.array(eigenvectors_sort[0:4]).transpose()\n",
    "p_reduce"
   ]
  },
  {
   "cell_type": "code",
   "execution_count": 30,
   "metadata": {},
   "outputs": [
    {
     "name": "stdout",
     "output_type": "stream",
     "text": [
      "[[-1.32291442 -1.79565502 -0.78981594 -0.21931559]\n",
      " [-3.48365134  0.09283156 -0.06301054  0.24997171]\n",
      " [-0.53616125  0.04940728  0.22927472 -0.44722137]\n",
      " ...\n",
      " [ 2.03301641  0.69391768  0.9370173   0.29820072]\n",
      " [ 1.60123963  0.46575061 -0.20441808 -0.33186727]\n",
      " [ 4.89861662  0.80973552 -0.49177154  0.52127292]]\n"
     ]
    }
   ],
   "source": [
    "## project data ONTO 2D space\n",
    "\n",
    "proj_data_pca = np.dot(df_scaled, p_reduce)\n",
    "print(proj_data_pca)\n",
    "\n"
   ]
  },
  {
   "cell_type": "code",
   "execution_count": 31,
   "metadata": {},
   "outputs": [
    {
     "name": "stdout",
     "output_type": "stream",
     "text": [
      "fetch= [-1.32291442 -1.79565502 -0.78981594 -0.21931559]\n"
     ]
    }
   ],
   "source": [
    "print('fetch=',proj_data_pca[0,:])"
   ]
  },
  {
   "cell_type": "code",
   "execution_count": 65,
   "metadata": {},
   "outputs": [
    {
     "data": {
      "text/plain": [
       "KMeans(algorithm='auto', copy_x=True, init='k-means++', max_iter=300,\n",
       "       n_clusters=3, n_init=15, n_jobs=None, precompute_distances='auto',\n",
       "       random_state=0, tol=0.0001, verbose=0)"
      ]
     },
     "execution_count": 65,
     "metadata": {},
     "output_type": "execute_result"
    }
   ],
   "source": [
    "## modeling\n",
    "\n",
    "model=KMeans(n_clusters=3, n_init=15,random_state=0)\n",
    "model.fit(proj_data_pca)"
   ]
  },
  {
   "cell_type": "code",
   "execution_count": 67,
   "metadata": {},
   "outputs": [
    {
     "data": {
      "text/plain": [
       "array([[-3.21280833,  0.11121902, -0.07441783,  0.15687787],\n",
       "       [ 2.97542453,  0.14251892, -0.08163922,  0.1472999 ],\n",
       "       [-0.00847287, -0.17734705,  0.10873678, -0.21128029]])"
      ]
     },
     "execution_count": 67,
     "metadata": {},
     "output_type": "execute_result"
    }
   ],
   "source": [
    "model.cluster_centers_  # for 1 label there is nice separation so go for the 1label onmly"
   ]
  },
  {
   "cell_type": "code",
   "execution_count": 68,
   "metadata": {},
   "outputs": [
    {
     "name": "stdout",
     "output_type": "stream",
     "text": [
      "[[-1.32291442]\n",
      " [-3.48365134]\n",
      " [-0.53616125]\n",
      " ...\n",
      " [ 2.03301641]\n",
      " [ 1.60123963]\n",
      " [ 4.89861662]]\n"
     ]
    },
    {
     "data": {
      "text/plain": [
       "array([[-3.11714358],\n",
       "       [ 3.09118864],\n",
       "       [ 0.13531779]])"
      ]
     },
     "execution_count": 68,
     "metadata": {},
     "output_type": "execute_result"
    }
   ],
   "source": [
    "## create another model \n",
    "\n",
    "\n",
    "## keep the first four principal components\n",
    "## P_reduce is 8*4 matrix\n",
    "\n",
    "p_reduce= np.array(eigenvectors_sort[0:1]).transpose()\n",
    "p_reduce\n",
    "\n",
    "## project data ONTO 2D space\n",
    "\n",
    "proj_data_pca = np.dot(df_scaled, p_reduce)\n",
    "print(proj_data_pca)\n",
    "\n",
    "## modeling\n",
    "\n",
    "model=KMeans(n_clusters=3, n_init=15,random_state=0)\n",
    "model.fit(proj_data_pca)\n",
    "\n",
    "model.cluster_centers_"
   ]
  },
  {
   "cell_type": "code",
   "execution_count": 70,
   "metadata": {},
   "outputs": [
    {
     "data": {
      "text/plain": [
       "2    1766\n",
       "0    1237\n",
       "1    1174\n",
       "Name: 0, dtype: int64"
      ]
     },
     "execution_count": 70,
     "metadata": {},
     "output_type": "execute_result"
    }
   ],
   "source": [
    "L=pd.DataFrame(model.labels_)\n",
    "L[0].value_counts()"
   ]
  },
  {
   "cell_type": "code",
   "execution_count": 71,
   "metadata": {},
   "outputs": [
    {
     "data": {
      "text/plain": [
       "M    1528\n",
       "I    1342\n",
       "F    1307\n",
       "Name: Gender, dtype: int64"
      ]
     },
     "execution_count": 71,
     "metadata": {},
     "output_type": "execute_result"
    }
   ],
   "source": [
    "data.Gender.value_counts()"
   ]
  },
  {
   "cell_type": "code",
   "execution_count": 72,
   "metadata": {},
   "outputs": [
    {
     "data": {
      "text/plain": [
       "4786.876980301662"
      ]
     },
     "execution_count": 72,
     "metadata": {},
     "output_type": "execute_result"
    }
   ],
   "source": [
    "model.inertia_"
   ]
  },
  {
   "cell_type": "code",
   "execution_count": 76,
   "metadata": {},
   "outputs": [
    {
     "data": {
      "text/plain": [
       "0.38407428104236585"
      ]
     },
     "execution_count": 76,
     "metadata": {},
     "output_type": "execute_result"
    }
   ],
   "source": [
    "from sklearn import metrics\n",
    "metrics.silhouette_score(df_scaled,model.labels_)"
   ]
  },
  {
   "cell_type": "code",
   "execution_count": 77,
   "metadata": {},
   "outputs": [],
   "source": [
    "df_scaled_labeled=df_scaled.copy()\n",
    "df_scaled_labeled['class']=model.labels_"
   ]
  },
  {
   "cell_type": "code",
   "execution_count": 78,
   "metadata": {},
   "outputs": [
    {
     "data": {
      "text/html": [
       "<div>\n",
       "<style scoped>\n",
       "    .dataframe tbody tr th:only-of-type {\n",
       "        vertical-align: middle;\n",
       "    }\n",
       "\n",
       "    .dataframe tbody tr th {\n",
       "        vertical-align: top;\n",
       "    }\n",
       "\n",
       "    .dataframe thead th {\n",
       "        text-align: right;\n",
       "    }\n",
       "</style>\n",
       "<table border=\"1\" class=\"dataframe\">\n",
       "  <thead>\n",
       "    <tr style=\"text-align: right;\">\n",
       "      <th></th>\n",
       "      <th>Length</th>\n",
       "      <th>Diameter</th>\n",
       "      <th>Height</th>\n",
       "      <th>Meatweight</th>\n",
       "      <th>Weight</th>\n",
       "      <th>Gutweight</th>\n",
       "      <th>Shellweight</th>\n",
       "      <th>Rings</th>\n",
       "      <th>class</th>\n",
       "    </tr>\n",
       "  </thead>\n",
       "  <tbody>\n",
       "    <tr>\n",
       "      <th>0</th>\n",
       "      <td>-0.574558</td>\n",
       "      <td>-0.432149</td>\n",
       "      <td>-1.064424</td>\n",
       "      <td>-0.641898</td>\n",
       "      <td>-0.607685</td>\n",
       "      <td>-0.726212</td>\n",
       "      <td>-0.638217</td>\n",
       "      <td>1.571544</td>\n",
       "      <td>2</td>\n",
       "    </tr>\n",
       "    <tr>\n",
       "      <th>1</th>\n",
       "      <td>-1.448986</td>\n",
       "      <td>-1.439929</td>\n",
       "      <td>-1.183978</td>\n",
       "      <td>-1.230277</td>\n",
       "      <td>-1.170910</td>\n",
       "      <td>-1.205221</td>\n",
       "      <td>-1.212987</td>\n",
       "      <td>-0.910013</td>\n",
       "      <td>0</td>\n",
       "    </tr>\n",
       "    <tr>\n",
       "      <th>2</th>\n",
       "      <td>0.050033</td>\n",
       "      <td>0.122130</td>\n",
       "      <td>-0.107991</td>\n",
       "      <td>-0.309469</td>\n",
       "      <td>-0.463500</td>\n",
       "      <td>-0.356690</td>\n",
       "      <td>-0.207139</td>\n",
       "      <td>-0.289624</td>\n",
       "      <td>2</td>\n",
       "    </tr>\n",
       "    <tr>\n",
       "      <th>3</th>\n",
       "      <td>-0.699476</td>\n",
       "      <td>-0.432149</td>\n",
       "      <td>-0.347099</td>\n",
       "      <td>-0.637819</td>\n",
       "      <td>-0.648238</td>\n",
       "      <td>-0.607600</td>\n",
       "      <td>-0.602294</td>\n",
       "      <td>0.020571</td>\n",
       "      <td>2</td>\n",
       "    </tr>\n",
       "    <tr>\n",
       "      <th>4</th>\n",
       "      <td>-1.615544</td>\n",
       "      <td>-1.540707</td>\n",
       "      <td>-1.423087</td>\n",
       "      <td>-1.272086</td>\n",
       "      <td>-1.215968</td>\n",
       "      <td>-1.287337</td>\n",
       "      <td>-1.320757</td>\n",
       "      <td>-0.910013</td>\n",
       "      <td>0</td>\n",
       "    </tr>\n",
       "  </tbody>\n",
       "</table>\n",
       "</div>"
      ],
      "text/plain": [
       "     Length  Diameter    Height  Meatweight    Weight  Gutweight  Shellweight  \\\n",
       "0 -0.574558 -0.432149 -1.064424   -0.641898 -0.607685  -0.726212    -0.638217   \n",
       "1 -1.448986 -1.439929 -1.183978   -1.230277 -1.170910  -1.205221    -1.212987   \n",
       "2  0.050033  0.122130 -0.107991   -0.309469 -0.463500  -0.356690    -0.207139   \n",
       "3 -0.699476 -0.432149 -0.347099   -0.637819 -0.648238  -0.607600    -0.602294   \n",
       "4 -1.615544 -1.540707 -1.423087   -1.272086 -1.215968  -1.287337    -1.320757   \n",
       "\n",
       "      Rings  class  \n",
       "0  1.571544      2  \n",
       "1 -0.910013      0  \n",
       "2 -0.289624      2  \n",
       "3  0.020571      2  \n",
       "4 -0.910013      0  "
      ]
     },
     "execution_count": 78,
     "metadata": {},
     "output_type": "execute_result"
    }
   ],
   "source": [
    "df_scaled_labeled.head()"
   ]
  },
  {
   "cell_type": "code",
   "execution_count": 81,
   "metadata": {},
   "outputs": [
    {
     "data": {
      "text/html": [
       "<div>\n",
       "<style scoped>\n",
       "    .dataframe tbody tr th:only-of-type {\n",
       "        vertical-align: middle;\n",
       "    }\n",
       "\n",
       "    .dataframe tbody tr th {\n",
       "        vertical-align: top;\n",
       "    }\n",
       "\n",
       "    .dataframe thead th {\n",
       "        text-align: right;\n",
       "    }\n",
       "</style>\n",
       "<table border=\"1\" class=\"dataframe\">\n",
       "  <thead>\n",
       "    <tr style=\"text-align: right;\">\n",
       "      <th></th>\n",
       "      <th>Length</th>\n",
       "      <th>Diameter</th>\n",
       "      <th>Height</th>\n",
       "      <th>Meatweight</th>\n",
       "      <th>Weight</th>\n",
       "      <th>Gutweight</th>\n",
       "      <th>Shellweight</th>\n",
       "      <th>Rings</th>\n",
       "      <th>class</th>\n",
       "    </tr>\n",
       "  </thead>\n",
       "  <tbody>\n",
       "    <tr>\n",
       "      <th>count</th>\n",
       "      <td>1237.000000</td>\n",
       "      <td>1237.000000</td>\n",
       "      <td>1237.000000</td>\n",
       "      <td>1237.000000</td>\n",
       "      <td>1237.000000</td>\n",
       "      <td>1237.000000</td>\n",
       "      <td>1237.000000</td>\n",
       "      <td>1237.000000</td>\n",
       "      <td>1237.0</td>\n",
       "    </tr>\n",
       "    <tr>\n",
       "      <th>mean</th>\n",
       "      <td>-1.239880</td>\n",
       "      <td>-1.241510</td>\n",
       "      <td>-1.088876</td>\n",
       "      <td>-1.117945</td>\n",
       "      <td>-1.065741</td>\n",
       "      <td>-1.097319</td>\n",
       "      <td>-1.106923</td>\n",
       "      <td>-0.822246</td>\n",
       "      <td>0.0</td>\n",
       "    </tr>\n",
       "    <tr>\n",
       "      <th>std</th>\n",
       "      <td>0.658735</td>\n",
       "      <td>0.646045</td>\n",
       "      <td>0.545383</td>\n",
       "      <td>0.287938</td>\n",
       "      <td>0.307384</td>\n",
       "      <td>0.285927</td>\n",
       "      <td>0.306433</td>\n",
       "      <td>0.609819</td>\n",
       "      <td>0.0</td>\n",
       "    </tr>\n",
       "    <tr>\n",
       "      <th>min</th>\n",
       "      <td>-3.739154</td>\n",
       "      <td>-3.556267</td>\n",
       "      <td>-3.335953</td>\n",
       "      <td>-1.686092</td>\n",
       "      <td>-1.614731</td>\n",
       "      <td>-1.643173</td>\n",
       "      <td>-1.705134</td>\n",
       "      <td>-2.771180</td>\n",
       "      <td>0.0</td>\n",
       "    </tr>\n",
       "    <tr>\n",
       "      <th>25%</th>\n",
       "      <td>-1.615544</td>\n",
       "      <td>-1.591096</td>\n",
       "      <td>-1.423087</td>\n",
       "      <td>-1.340407</td>\n",
       "      <td>-1.301578</td>\n",
       "      <td>-1.319271</td>\n",
       "      <td>-1.342311</td>\n",
       "      <td>-1.220208</td>\n",
       "      <td>0.0</td>\n",
       "    </tr>\n",
       "    <tr>\n",
       "      <th>50%</th>\n",
       "      <td>-1.115871</td>\n",
       "      <td>-1.137595</td>\n",
       "      <td>-1.064424</td>\n",
       "      <td>-1.118108</td>\n",
       "      <td>-1.085300</td>\n",
       "      <td>-1.109419</td>\n",
       "      <td>-1.105218</td>\n",
       "      <td>-0.910013</td>\n",
       "      <td>0.0</td>\n",
       "    </tr>\n",
       "    <tr>\n",
       "      <th>75%</th>\n",
       "      <td>-0.699476</td>\n",
       "      <td>-0.734483</td>\n",
       "      <td>-0.705762</td>\n",
       "      <td>-0.878473</td>\n",
       "      <td>-0.850998</td>\n",
       "      <td>-0.872195</td>\n",
       "      <td>-0.864533</td>\n",
       "      <td>-0.599818</td>\n",
       "      <td>0.0</td>\n",
       "    </tr>\n",
       "    <tr>\n",
       "      <th>max</th>\n",
       "      <td>0.008394</td>\n",
       "      <td>0.273297</td>\n",
       "      <td>0.489780</td>\n",
       "      <td>-0.369633</td>\n",
       "      <td>0.611132</td>\n",
       "      <td>-0.197020</td>\n",
       "      <td>0.802301</td>\n",
       "      <td>2.502127</td>\n",
       "      <td>0.0</td>\n",
       "    </tr>\n",
       "  </tbody>\n",
       "</table>\n",
       "</div>"
      ],
      "text/plain": [
       "            Length     Diameter       Height   Meatweight       Weight  \\\n",
       "count  1237.000000  1237.000000  1237.000000  1237.000000  1237.000000   \n",
       "mean     -1.239880    -1.241510    -1.088876    -1.117945    -1.065741   \n",
       "std       0.658735     0.646045     0.545383     0.287938     0.307384   \n",
       "min      -3.739154    -3.556267    -3.335953    -1.686092    -1.614731   \n",
       "25%      -1.615544    -1.591096    -1.423087    -1.340407    -1.301578   \n",
       "50%      -1.115871    -1.137595    -1.064424    -1.118108    -1.085300   \n",
       "75%      -0.699476    -0.734483    -0.705762    -0.878473    -0.850998   \n",
       "max       0.008394     0.273297     0.489780    -0.369633     0.611132   \n",
       "\n",
       "         Gutweight  Shellweight        Rings   class  \n",
       "count  1237.000000  1237.000000  1237.000000  1237.0  \n",
       "mean     -1.097319    -1.106923    -0.822246     0.0  \n",
       "std       0.285927     0.306433     0.609819     0.0  \n",
       "min      -1.643173    -1.705134    -2.771180     0.0  \n",
       "25%      -1.319271    -1.342311    -1.220208     0.0  \n",
       "50%      -1.109419    -1.105218    -0.910013     0.0  \n",
       "75%      -0.872195    -0.864533    -0.599818     0.0  \n",
       "max      -0.197020     0.802301     2.502127     0.0  "
      ]
     },
     "execution_count": 81,
     "metadata": {},
     "output_type": "execute_result"
    }
   ],
   "source": [
    "\n",
    "### AGC_clusters= data_scaled_df_labeled.groupby(['class'])\n",
    "\n",
    "AGC_clusters= df_scaled_labeled.groupby(['class'])\n",
    "\n",
    "\n",
    "Df0 = AGC_clusters.get_group(0)\n",
    "Df1 = AGC_clusters.get_group(1)\n",
    "Df2 = AGC_clusters.get_group(2)\n",
    "\n",
    "\n",
    "Df0.describe()\n",
    "\n",
    "### 0 class as infants\n",
    "### 1 class as female\n",
    "### 2 class as male\n",
    "\n",
    "\n",
    "from sklearn.cluster import AgglomerativeClustering\n",
    "m2=AgglomerativeClustering(n_clusters=3, affinity='manhattan' ,linkage='single')\n",
    "m2.fit(df_scaled_update)\n",
    "\n",
    "\n",
    "L=pd.DataFrame(m2.labels_)\n",
    "L[0].value_counts()           # from all choices ward method is better \n",
    "print(L[0].value_counts())\n",
    "\n",
    "##Adding a label feature with the predicted class values:\n",
    "data_scaled_df_labeled= df_scaled_update.copy()\n",
    "data_scaled_df_labeled['class']=m2.labels_\n",
    "data_scaled_df_labeled.head()\n",
    "\n",
    "\n",
    "\n",
    "### AGC_clusters= data_scaled_df_labeled.groupby(['class'])\n",
    "\n",
    "AGC_clusters= data_scaled_df_labeled.groupby(['class'])\n",
    "\n",
    "\n",
    "df0 = AGC_clusters.get_group(0)\n",
    "df1 = AGC_clusters.get_group(1)\n",
    "df2 = AGC_clusters.get_group(2)\n",
    "\n",
    "\n",
    "c0=np.array(df0.mean())\n",
    "c1=np.array(df1.mean())\n",
    "c2=np.array(df2.mean())\n",
    "\n",
    "\n",
    "c0=c0[:-1] #as last one record is for label\n",
    "c1=c1[:-1]\n",
    "c2=c2[:-1]\n",
    "\n",
    "AGC_I0=0\n",
    "AGC_I1=0\n",
    "AGC_I2=0\n",
    "\n",
    "for i in np.arange(df0.shape[0]):\n",
    "    AGC_I0=AGC_I0+np.sum((df0.iloc[i,:-1]-c0)**2)       # bcoz npo require label column so we use iloc[i,:-1]\n",
    "for i in np.arange(df1.shape[0]):\n",
    "    AGC_I1=AGC_I1+np.sum((df1.iloc[i,:-1]-c1)**2)\n",
    "for i in np.arange(df2.shape[0]):\n",
    "    AGC_I2=AGC_I2+np.sum((df2.iloc[i,:-1]-c2)**2)\n",
    "    \n",
    "AGC_I0,AGC_I1,AGC_I2\n",
    "\n",
    "\n",
    "from sklearn import metrics\n",
    "\n",
    "print(metrics.silhouette_score(df_scaled_update,m2.labels_))\n",
    "\n",
    "\n",
    "\n",
    "### from this there is only single information we will get i.e heterogenity bcoz from formula a is going to be zero ((b-a)/max(a,b))"
   ]
  },
  {
   "cell_type": "code",
   "execution_count": 82,
   "metadata": {},
   "outputs": [
    {
     "data": {
      "text/html": [
       "<div>\n",
       "<style scoped>\n",
       "    .dataframe tbody tr th:only-of-type {\n",
       "        vertical-align: middle;\n",
       "    }\n",
       "\n",
       "    .dataframe tbody tr th {\n",
       "        vertical-align: top;\n",
       "    }\n",
       "\n",
       "    .dataframe thead th {\n",
       "        text-align: right;\n",
       "    }\n",
       "</style>\n",
       "<table border=\"1\" class=\"dataframe\">\n",
       "  <thead>\n",
       "    <tr style=\"text-align: right;\">\n",
       "      <th></th>\n",
       "      <th>Length</th>\n",
       "      <th>Diameter</th>\n",
       "      <th>Height</th>\n",
       "      <th>Meatweight</th>\n",
       "      <th>Weight</th>\n",
       "      <th>Gutweight</th>\n",
       "      <th>Shellweight</th>\n",
       "      <th>Rings</th>\n",
       "      <th>class</th>\n",
       "    </tr>\n",
       "  </thead>\n",
       "  <tbody>\n",
       "    <tr>\n",
       "      <th>count</th>\n",
       "      <td>1174.000000</td>\n",
       "      <td>1174.000000</td>\n",
       "      <td>1174.000000</td>\n",
       "      <td>1174.000000</td>\n",
       "      <td>1174.000000</td>\n",
       "      <td>1174.000000</td>\n",
       "      <td>1174.000000</td>\n",
       "      <td>1174.000000</td>\n",
       "      <td>1174.0</td>\n",
       "    </tr>\n",
       "    <tr>\n",
       "      <th>mean</th>\n",
       "      <td>1.051330</td>\n",
       "      <td>1.058791</td>\n",
       "      <td>1.003944</td>\n",
       "      <td>1.242832</td>\n",
       "      <td>1.190682</td>\n",
       "      <td>1.220012</td>\n",
       "      <td>1.205094</td>\n",
       "      <td>0.665797</td>\n",
       "      <td>1.0</td>\n",
       "    </tr>\n",
       "    <tr>\n",
       "      <th>std</th>\n",
       "      <td>0.357366</td>\n",
       "      <td>0.355691</td>\n",
       "      <td>0.841018</td>\n",
       "      <td>0.624910</td>\n",
       "      <td>0.735679</td>\n",
       "      <td>0.675273</td>\n",
       "      <td>0.689268</td>\n",
       "      <td>0.974818</td>\n",
       "      <td>0.0</td>\n",
       "    </tr>\n",
       "    <tr>\n",
       "      <th>min</th>\n",
       "      <td>-0.574558</td>\n",
       "      <td>-0.532927</td>\n",
       "      <td>-0.347099</td>\n",
       "      <td>-0.478743</td>\n",
       "      <td>-0.267498</td>\n",
       "      <td>-0.589352</td>\n",
       "      <td>-0.756763</td>\n",
       "      <td>-1.220208</td>\n",
       "      <td>1.0</td>\n",
       "    </tr>\n",
       "    <tr>\n",
       "      <th>25%</th>\n",
       "      <td>0.799543</td>\n",
       "      <td>0.827576</td>\n",
       "      <td>0.609334</td>\n",
       "      <td>0.793869</td>\n",
       "      <td>0.689984</td>\n",
       "      <td>0.742751</td>\n",
       "      <td>0.720576</td>\n",
       "      <td>0.020571</td>\n",
       "      <td>1.0</td>\n",
       "    </tr>\n",
       "    <tr>\n",
       "      <th>50%</th>\n",
       "      <td>1.007740</td>\n",
       "      <td>1.029133</td>\n",
       "      <td>0.848442</td>\n",
       "      <td>1.086528</td>\n",
       "      <td>1.068471</td>\n",
       "      <td>1.107711</td>\n",
       "      <td>1.069929</td>\n",
       "      <td>0.330765</td>\n",
       "      <td>1.0</td>\n",
       "    </tr>\n",
       "    <tr>\n",
       "      <th>75%</th>\n",
       "      <td>1.257576</td>\n",
       "      <td>1.281078</td>\n",
       "      <td>1.207105</td>\n",
       "      <td>1.563248</td>\n",
       "      <td>1.507786</td>\n",
       "      <td>1.608390</td>\n",
       "      <td>1.538726</td>\n",
       "      <td>0.951154</td>\n",
       "      <td>1.0</td>\n",
       "    </tr>\n",
       "    <tr>\n",
       "      <th>max</th>\n",
       "      <td>2.423480</td>\n",
       "      <td>2.440025</td>\n",
       "      <td>23.683287</td>\n",
       "      <td>4.072271</td>\n",
       "      <td>5.085388</td>\n",
       "      <td>5.286500</td>\n",
       "      <td>5.504642</td>\n",
       "      <td>5.914268</td>\n",
       "      <td>1.0</td>\n",
       "    </tr>\n",
       "  </tbody>\n",
       "</table>\n",
       "</div>"
      ],
      "text/plain": [
       "            Length     Diameter       Height   Meatweight       Weight  \\\n",
       "count  1174.000000  1174.000000  1174.000000  1174.000000  1174.000000   \n",
       "mean      1.051330     1.058791     1.003944     1.242832     1.190682   \n",
       "std       0.357366     0.355691     0.841018     0.624910     0.735679   \n",
       "min      -0.574558    -0.532927    -0.347099    -0.478743    -0.267498   \n",
       "25%       0.799543     0.827576     0.609334     0.793869     0.689984   \n",
       "50%       1.007740     1.029133     0.848442     1.086528     1.068471   \n",
       "75%       1.257576     1.281078     1.207105     1.563248     1.507786   \n",
       "max       2.423480     2.440025    23.683287     4.072271     5.085388   \n",
       "\n",
       "         Gutweight  Shellweight        Rings   class  \n",
       "count  1174.000000  1174.000000  1174.000000  1174.0  \n",
       "mean      1.220012     1.205094     0.665797     1.0  \n",
       "std       0.675273     0.689268     0.974818     0.0  \n",
       "min      -0.589352    -0.756763    -1.220208     1.0  \n",
       "25%       0.742751     0.720576     0.020571     1.0  \n",
       "50%       1.107711     1.069929     0.330765     1.0  \n",
       "75%       1.608390     1.538726     0.951154     1.0  \n",
       "max       5.286500     5.504642     5.914268     1.0  "
      ]
     },
     "execution_count": 82,
     "metadata": {},
     "output_type": "execute_result"
    }
   ],
   "source": [
    "Df1.describe()"
   ]
  },
  {
   "cell_type": "code",
   "execution_count": 83,
   "metadata": {},
   "outputs": [
    {
     "data": {
      "text/html": [
       "<div>\n",
       "<style scoped>\n",
       "    .dataframe tbody tr th:only-of-type {\n",
       "        vertical-align: middle;\n",
       "    }\n",
       "\n",
       "    .dataframe tbody tr th {\n",
       "        vertical-align: top;\n",
       "    }\n",
       "\n",
       "    .dataframe thead th {\n",
       "        text-align: right;\n",
       "    }\n",
       "</style>\n",
       "<table border=\"1\" class=\"dataframe\">\n",
       "  <thead>\n",
       "    <tr style=\"text-align: right;\">\n",
       "      <th></th>\n",
       "      <th>Length</th>\n",
       "      <th>Diameter</th>\n",
       "      <th>Height</th>\n",
       "      <th>Meatweight</th>\n",
       "      <th>Weight</th>\n",
       "      <th>Gutweight</th>\n",
       "      <th>Shellweight</th>\n",
       "      <th>Rings</th>\n",
       "      <th>class</th>\n",
       "    </tr>\n",
       "  </thead>\n",
       "  <tbody>\n",
       "    <tr>\n",
       "      <th>count</th>\n",
       "      <td>1766.000000</td>\n",
       "      <td>1766.000000</td>\n",
       "      <td>1766.000000</td>\n",
       "      <td>1766.000000</td>\n",
       "      <td>1766.000000</td>\n",
       "      <td>1766.000000</td>\n",
       "      <td>1766.000000</td>\n",
       "      <td>1766.000000</td>\n",
       "      <td>1766.0</td>\n",
       "    </tr>\n",
       "    <tr>\n",
       "      <th>mean</th>\n",
       "      <td>0.169575</td>\n",
       "      <td>0.165757</td>\n",
       "      <td>0.095305</td>\n",
       "      <td>-0.043141</td>\n",
       "      <td>-0.045039</td>\n",
       "      <td>-0.042418</td>\n",
       "      <td>-0.025774</td>\n",
       "      <td>0.133337</td>\n",
       "      <td>2.0</td>\n",
       "    </tr>\n",
       "    <tr>\n",
       "      <th>std</th>\n",
       "      <td>0.369376</td>\n",
       "      <td>0.369868</td>\n",
       "      <td>0.421595</td>\n",
       "      <td>0.379178</td>\n",
       "      <td>0.446822</td>\n",
       "      <td>0.412958</td>\n",
       "      <td>0.399627</td>\n",
       "      <td>0.829538</td>\n",
       "      <td>0.0</td>\n",
       "    </tr>\n",
       "    <tr>\n",
       "      <th>min</th>\n",
       "      <td>-0.990952</td>\n",
       "      <td>-0.986428</td>\n",
       "      <td>-2.977291</td>\n",
       "      <td>-0.857059</td>\n",
       "      <td>-1.103323</td>\n",
       "      <td>-1.040989</td>\n",
       "      <td>-1.001041</td>\n",
       "      <td>-1.220208</td>\n",
       "      <td>2.0</td>\n",
       "    </tr>\n",
       "    <tr>\n",
       "      <th>25%</th>\n",
       "      <td>-0.116525</td>\n",
       "      <td>-0.129815</td>\n",
       "      <td>-0.227545</td>\n",
       "      <td>-0.366064</td>\n",
       "      <td>-0.389154</td>\n",
       "      <td>-0.361252</td>\n",
       "      <td>-0.350832</td>\n",
       "      <td>-0.289624</td>\n",
       "      <td>2.0</td>\n",
       "    </tr>\n",
       "    <tr>\n",
       "      <th>50%</th>\n",
       "      <td>0.174951</td>\n",
       "      <td>0.172519</td>\n",
       "      <td>0.131117</td>\n",
       "      <td>-0.040263</td>\n",
       "      <td>-0.081634</td>\n",
       "      <td>-0.073846</td>\n",
       "      <td>-0.027523</td>\n",
       "      <td>0.020571</td>\n",
       "      <td>2.0</td>\n",
       "    </tr>\n",
       "    <tr>\n",
       "      <th>75%</th>\n",
       "      <td>0.466427</td>\n",
       "      <td>0.474853</td>\n",
       "      <td>0.370226</td>\n",
       "      <td>0.254436</td>\n",
       "      <td>0.279956</td>\n",
       "      <td>0.259180</td>\n",
       "      <td>0.259862</td>\n",
       "      <td>0.330765</td>\n",
       "      <td>2.0</td>\n",
       "    </tr>\n",
       "    <tr>\n",
       "      <th>max</th>\n",
       "      <td>1.091018</td>\n",
       "      <td>1.180300</td>\n",
       "      <td>2.283092</td>\n",
       "      <td>1.247644</td>\n",
       "      <td>1.566361</td>\n",
       "      <td>1.294753</td>\n",
       "      <td>1.732711</td>\n",
       "      <td>4.053100</td>\n",
       "      <td>2.0</td>\n",
       "    </tr>\n",
       "  </tbody>\n",
       "</table>\n",
       "</div>"
      ],
      "text/plain": [
       "            Length     Diameter       Height   Meatweight       Weight  \\\n",
       "count  1766.000000  1766.000000  1766.000000  1766.000000  1766.000000   \n",
       "mean      0.169575     0.165757     0.095305    -0.043141    -0.045039   \n",
       "std       0.369376     0.369868     0.421595     0.379178     0.446822   \n",
       "min      -0.990952    -0.986428    -2.977291    -0.857059    -1.103323   \n",
       "25%      -0.116525    -0.129815    -0.227545    -0.366064    -0.389154   \n",
       "50%       0.174951     0.172519     0.131117    -0.040263    -0.081634   \n",
       "75%       0.466427     0.474853     0.370226     0.254436     0.279956   \n",
       "max       1.091018     1.180300     2.283092     1.247644     1.566361   \n",
       "\n",
       "         Gutweight  Shellweight        Rings   class  \n",
       "count  1766.000000  1766.000000  1766.000000  1766.0  \n",
       "mean     -0.042418    -0.025774     0.133337     2.0  \n",
       "std       0.412958     0.399627     0.829538     0.0  \n",
       "min      -1.040989    -1.001041    -1.220208     2.0  \n",
       "25%      -0.361252    -0.350832    -0.289624     2.0  \n",
       "50%      -0.073846    -0.027523     0.020571     2.0  \n",
       "75%       0.259180     0.259862     0.330765     2.0  \n",
       "max       1.294753     1.732711     4.053100     2.0  "
      ]
     },
     "execution_count": 83,
     "metadata": {},
     "output_type": "execute_result"
    }
   ],
   "source": [
    "Df2.describe()"
   ]
  },
  {
   "cell_type": "markdown",
   "metadata": {},
   "source": [
    "### Apply PCA by code:--"
   ]
  },
  {
   "cell_type": "markdown",
   "metadata": {},
   "source": [
    "\n",
    "\n",
    "pca = PCA(n_components = 2) \n",
    "  \n",
    "X_train = pca.fit_transform(X_train) \n",
    "X_test = pca.transform(X_test) \n",
    "  \n",
    "explained_variance = pca.explained_variance_ratio_ "
   ]
  }
 ],
 "metadata": {
  "kernelspec": {
   "display_name": "Python 3",
   "language": "python",
   "name": "python3"
  },
  "language_info": {
   "codemirror_mode": {
    "name": "ipython",
    "version": 3
   },
   "file_extension": ".py",
   "mimetype": "text/x-python",
   "name": "python",
   "nbconvert_exporter": "python",
   "pygments_lexer": "ipython3",
   "version": "3.7.3"
  }
 },
 "nbformat": 4,
 "nbformat_minor": 2
}
